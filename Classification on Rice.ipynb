{
 "cells": [
  {
   "cell_type": "markdown",
   "id": "d21c5603-3470-44cb-bb6e-ccb3af7aaffc",
   "metadata": {},
   "source": [
    "<div style=\"background-color: #e6f7ff; padding: 10px;\">\n",
    "    \n",
    "#  Classification Module\n"
   ]
  },
  {
   "cell_type": "markdown",
   "id": "5025dec7-35a2-461b-bb28-0d9633f457bc",
   "metadata": {},
   "source": [
    "**Dataset Reference**:\n",
    "\n",
    "Rice (Cammeo and Osmancik). (2019). UCI Machine Learning Repository. https://doi.org/10.24432/C5MW4Z."
   ]
  },
  {
   "cell_type": "markdown",
   "id": "1470543d-46ed-43a0-9fbf-6313c0447250",
   "metadata": {},
   "source": [
    "The code block below contains the data with the best model selected for prediction. The final model, labeled ***'final_lr'***, will be created and used to predict unseen data. To proceed with the prediction, run the entire code block below."
   ]
  },
  {
   "cell_type": "code",
   "execution_count": null,
   "id": "0a4026e5-a89e-4427-87d0-4a367da7e546",
   "metadata": {},
   "outputs": [],
   "source": [
    "import pandas as pd\n",
    "data = pd.read_csv('./data/rice_main.csv',low_memory=False)\n",
    "\n",
    "from pycaret.classification import *\n",
    "cls = ClassificationExperiment()\n",
    "cls = setup(data, target ='Class', session_id=42, fix_imbalance=True);\n",
    "\n",
    "lr =  cls.create_model('lr');\n",
    "tuned_lr = cls.tune_model(lr) ;\n",
    "final_lr = cls.finalize_model(lr)\n",
    "final_lr"
   ]
  },
  {
   "cell_type": "code",
   "execution_count": 8,
   "id": "d7334242-e421-452b-a0df-28d2f1284d54",
   "metadata": {},
   "outputs": [
    {
     "data": {
      "text/html": [
       "<div>\n",
       "<style scoped>\n",
       "    .dataframe tbody tr th:only-of-type {\n",
       "        vertical-align: middle;\n",
       "    }\n",
       "\n",
       "    .dataframe tbody tr th {\n",
       "        vertical-align: top;\n",
       "    }\n",
       "\n",
       "    .dataframe thead th {\n",
       "        text-align: right;\n",
       "    }\n",
       "</style>\n",
       "<table border=\"1\" class=\"dataframe\">\n",
       "  <thead>\n",
       "    <tr style=\"text-align: right;\">\n",
       "      <th></th>\n",
       "      <th>Area</th>\n",
       "      <th>Perimeter</th>\n",
       "      <th>Major_Axis_Length</th>\n",
       "      <th>Minor_Axis_Length</th>\n",
       "      <th>Eccentricity</th>\n",
       "      <th>Convex_Area</th>\n",
       "      <th>Extent</th>\n",
       "      <th>Class</th>\n",
       "    </tr>\n",
       "  </thead>\n",
       "  <tbody>\n",
       "    <tr>\n",
       "      <th>0</th>\n",
       "      <td>14656</td>\n",
       "      <td>494.311005</td>\n",
       "      <td>206.020065</td>\n",
       "      <td>91.730972</td>\n",
       "      <td>0.895405</td>\n",
       "      <td>15072</td>\n",
       "      <td>0.615436</td>\n",
       "      <td>Cammeo</td>\n",
       "    </tr>\n",
       "    <tr>\n",
       "      <th>1</th>\n",
       "      <td>14634</td>\n",
       "      <td>501.122009</td>\n",
       "      <td>214.106781</td>\n",
       "      <td>87.768288</td>\n",
       "      <td>0.912118</td>\n",
       "      <td>14954</td>\n",
       "      <td>0.693259</td>\n",
       "      <td>Cammeo</td>\n",
       "    </tr>\n",
       "    <tr>\n",
       "      <th>2</th>\n",
       "      <td>13176</td>\n",
       "      <td>458.342987</td>\n",
       "      <td>193.337387</td>\n",
       "      <td>87.448395</td>\n",
       "      <td>0.891861</td>\n",
       "      <td>13368</td>\n",
       "      <td>0.640669</td>\n",
       "      <td>Cammeo</td>\n",
       "    </tr>\n",
       "    <tr>\n",
       "      <th>3</th>\n",
       "      <td>14688</td>\n",
       "      <td>507.166992</td>\n",
       "      <td>211.743378</td>\n",
       "      <td>89.312454</td>\n",
       "      <td>0.906691</td>\n",
       "      <td>15262</td>\n",
       "      <td>0.646024</td>\n",
       "      <td>Cammeo</td>\n",
       "    </tr>\n",
       "    <tr>\n",
       "      <th>4</th>\n",
       "      <td>13479</td>\n",
       "      <td>477.015991</td>\n",
       "      <td>200.053055</td>\n",
       "      <td>86.650291</td>\n",
       "      <td>0.901328</td>\n",
       "      <td>13786</td>\n",
       "      <td>0.657897</td>\n",
       "      <td>Cammeo</td>\n",
       "    </tr>\n",
       "    <tr>\n",
       "      <th>...</th>\n",
       "      <td>...</td>\n",
       "      <td>...</td>\n",
       "      <td>...</td>\n",
       "      <td>...</td>\n",
       "      <td>...</td>\n",
       "      <td>...</td>\n",
       "      <td>...</td>\n",
       "      <td>...</td>\n",
       "    </tr>\n",
       "    <tr>\n",
       "      <th>3043</th>\n",
       "      <td>11538</td>\n",
       "      <td>418.661011</td>\n",
       "      <td>170.850906</td>\n",
       "      <td>86.498398</td>\n",
       "      <td>0.862369</td>\n",
       "      <td>11741</td>\n",
       "      <td>0.713544</td>\n",
       "      <td>Osmancik</td>\n",
       "    </tr>\n",
       "    <tr>\n",
       "      <th>3044</th>\n",
       "      <td>11441</td>\n",
       "      <td>415.858002</td>\n",
       "      <td>170.486771</td>\n",
       "      <td>85.756592</td>\n",
       "      <td>0.864280</td>\n",
       "      <td>11628</td>\n",
       "      <td>0.681012</td>\n",
       "      <td>Osmancik</td>\n",
       "    </tr>\n",
       "    <tr>\n",
       "      <th>3045</th>\n",
       "      <td>11625</td>\n",
       "      <td>421.390015</td>\n",
       "      <td>167.714798</td>\n",
       "      <td>89.462570</td>\n",
       "      <td>0.845850</td>\n",
       "      <td>11904</td>\n",
       "      <td>0.694279</td>\n",
       "      <td>Osmancik</td>\n",
       "    </tr>\n",
       "    <tr>\n",
       "      <th>3046</th>\n",
       "      <td>9882</td>\n",
       "      <td>392.296997</td>\n",
       "      <td>161.193985</td>\n",
       "      <td>78.210480</td>\n",
       "      <td>0.874406</td>\n",
       "      <td>10097</td>\n",
       "      <td>0.659064</td>\n",
       "      <td>Osmancik</td>\n",
       "    </tr>\n",
       "    <tr>\n",
       "      <th>3047</th>\n",
       "      <td>11434</td>\n",
       "      <td>404.709992</td>\n",
       "      <td>161.079269</td>\n",
       "      <td>90.868195</td>\n",
       "      <td>0.825692</td>\n",
       "      <td>11591</td>\n",
       "      <td>0.802949</td>\n",
       "      <td>Osmancik</td>\n",
       "    </tr>\n",
       "  </tbody>\n",
       "</table>\n",
       "<p>3048 rows × 8 columns</p>\n",
       "</div>"
      ],
      "text/plain": [
       "       Area   Perimeter  Major_Axis_Length  Minor_Axis_Length  Eccentricity  \\\n",
       "0     14656  494.311005         206.020065          91.730972      0.895405   \n",
       "1     14634  501.122009         214.106781          87.768288      0.912118   \n",
       "2     13176  458.342987         193.337387          87.448395      0.891861   \n",
       "3     14688  507.166992         211.743378          89.312454      0.906691   \n",
       "4     13479  477.015991         200.053055          86.650291      0.901328   \n",
       "...     ...         ...                ...                ...           ...   \n",
       "3043  11538  418.661011         170.850906          86.498398      0.862369   \n",
       "3044  11441  415.858002         170.486771          85.756592      0.864280   \n",
       "3045  11625  421.390015         167.714798          89.462570      0.845850   \n",
       "3046   9882  392.296997         161.193985          78.210480      0.874406   \n",
       "3047  11434  404.709992         161.079269          90.868195      0.825692   \n",
       "\n",
       "      Convex_Area    Extent     Class  \n",
       "0           15072  0.615436    Cammeo  \n",
       "1           14954  0.693259    Cammeo  \n",
       "2           13368  0.640669    Cammeo  \n",
       "3           15262  0.646024    Cammeo  \n",
       "4           13786  0.657897    Cammeo  \n",
       "...           ...       ...       ...  \n",
       "3043        11741  0.713544  Osmancik  \n",
       "3044        11628  0.681012  Osmancik  \n",
       "3045        11904  0.694279  Osmancik  \n",
       "3046        10097  0.659064  Osmancik  \n",
       "3047        11591  0.802949  Osmancik  \n",
       "\n",
       "[3048 rows x 8 columns]"
      ]
     },
     "execution_count": 8,
     "metadata": {},
     "output_type": "execute_result"
    }
   ],
   "source": [
    "data"
   ]
  },
  {
   "cell_type": "markdown",
   "id": "fa4ff5d8-148e-4263-9cb9-723056efeabc",
   "metadata": {},
   "source": [
    "<div style=\"background-color: #e6f7ff; padding: 10px;\">\n",
    "    \n",
    "## 🔍  Findings\n",
    "The unseen data is imported below into the ***'unseen'*** variable. Using the final_lr model above"
   ]
  },
  {
   "cell_type": "code",
   "execution_count": 9,
   "id": "53f312c4-af6a-4991-958b-961f80c3a3d9",
   "metadata": {},
   "outputs": [],
   "source": [
    "from sklearn.metrics import classification_report, accuracy_score, precision_score, recall_score, confusion_matrix\n",
    "import matplotlib.pyplot as plt\n",
    "import seaborn as sns"
   ]
  },
  {
   "cell_type": "code",
   "execution_count": 10,
   "id": "463a2556-bd8e-462c-af30-599daab92127",
   "metadata": {},
   "outputs": [
    {
     "data": {
      "text/html": [
       "<div>\n",
       "<style scoped>\n",
       "    .dataframe tbody tr th:only-of-type {\n",
       "        vertical-align: middle;\n",
       "    }\n",
       "\n",
       "    .dataframe tbody tr th {\n",
       "        vertical-align: top;\n",
       "    }\n",
       "\n",
       "    .dataframe thead th {\n",
       "        text-align: right;\n",
       "    }\n",
       "</style>\n",
       "<table border=\"1\" class=\"dataframe\">\n",
       "  <thead>\n",
       "    <tr style=\"text-align: right;\">\n",
       "      <th></th>\n",
       "      <th>Area</th>\n",
       "      <th>Perimeter</th>\n",
       "      <th>Major_Axis_Length</th>\n",
       "      <th>Minor_Axis_Length</th>\n",
       "      <th>Eccentricity</th>\n",
       "      <th>Convex_Area</th>\n",
       "      <th>Extent</th>\n",
       "      <th>Class</th>\n",
       "    </tr>\n",
       "  </thead>\n",
       "  <tbody>\n",
       "    <tr>\n",
       "      <th>0</th>\n",
       "      <td>12442</td>\n",
       "      <td>459.535004</td>\n",
       "      <td>187.508850</td>\n",
       "      <td>87.187302</td>\n",
       "      <td>0.885323</td>\n",
       "      <td>12941</td>\n",
       "      <td>0.587580</td>\n",
       "      <td>Cammeo</td>\n",
       "    </tr>\n",
       "    <tr>\n",
       "      <th>1</th>\n",
       "      <td>12408</td>\n",
       "      <td>437.014008</td>\n",
       "      <td>179.741165</td>\n",
       "      <td>88.829605</td>\n",
       "      <td>0.869343</td>\n",
       "      <td>12598</td>\n",
       "      <td>0.636928</td>\n",
       "      <td>Osmancik</td>\n",
       "    </tr>\n",
       "    <tr>\n",
       "      <th>2</th>\n",
       "      <td>12867</td>\n",
       "      <td>449.079987</td>\n",
       "      <td>181.700561</td>\n",
       "      <td>91.341064</td>\n",
       "      <td>0.864460</td>\n",
       "      <td>13152</td>\n",
       "      <td>0.649062</td>\n",
       "      <td>Osmancik</td>\n",
       "    </tr>\n",
       "    <tr>\n",
       "      <th>3</th>\n",
       "      <td>13090</td>\n",
       "      <td>472.945007</td>\n",
       "      <td>202.601578</td>\n",
       "      <td>83.230179</td>\n",
       "      <td>0.911722</td>\n",
       "      <td>13331</td>\n",
       "      <td>0.775290</td>\n",
       "      <td>Cammeo</td>\n",
       "    </tr>\n",
       "    <tr>\n",
       "      <th>4</th>\n",
       "      <td>10359</td>\n",
       "      <td>409.510986</td>\n",
       "      <td>173.337967</td>\n",
       "      <td>76.875809</td>\n",
       "      <td>0.896273</td>\n",
       "      <td>10510</td>\n",
       "      <td>0.573588</td>\n",
       "      <td>Osmancik</td>\n",
       "    </tr>\n",
       "    <tr>\n",
       "      <th>...</th>\n",
       "      <td>...</td>\n",
       "      <td>...</td>\n",
       "      <td>...</td>\n",
       "      <td>...</td>\n",
       "      <td>...</td>\n",
       "      <td>...</td>\n",
       "      <td>...</td>\n",
       "      <td>...</td>\n",
       "    </tr>\n",
       "    <tr>\n",
       "      <th>757</th>\n",
       "      <td>14802</td>\n",
       "      <td>497.832001</td>\n",
       "      <td>209.617950</td>\n",
       "      <td>91.147133</td>\n",
       "      <td>0.900515</td>\n",
       "      <td>15208</td>\n",
       "      <td>0.622980</td>\n",
       "      <td>Cammeo</td>\n",
       "    </tr>\n",
       "    <tr>\n",
       "      <th>758</th>\n",
       "      <td>17192</td>\n",
       "      <td>528.341980</td>\n",
       "      <td>222.949936</td>\n",
       "      <td>99.092674</td>\n",
       "      <td>0.895798</td>\n",
       "      <td>17457</td>\n",
       "      <td>0.628914</td>\n",
       "      <td>Cammeo</td>\n",
       "    </tr>\n",
       "    <tr>\n",
       "      <th>759</th>\n",
       "      <td>11234</td>\n",
       "      <td>425.931000</td>\n",
       "      <td>176.301987</td>\n",
       "      <td>82.101532</td>\n",
       "      <td>0.884950</td>\n",
       "      <td>11452</td>\n",
       "      <td>0.655579</td>\n",
       "      <td>Osmancik</td>\n",
       "    </tr>\n",
       "    <tr>\n",
       "      <th>760</th>\n",
       "      <td>13982</td>\n",
       "      <td>479.785004</td>\n",
       "      <td>204.542389</td>\n",
       "      <td>88.279648</td>\n",
       "      <td>0.902067</td>\n",
       "      <td>14221</td>\n",
       "      <td>0.772913</td>\n",
       "      <td>Cammeo</td>\n",
       "    </tr>\n",
       "    <tr>\n",
       "      <th>761</th>\n",
       "      <td>14321</td>\n",
       "      <td>490.424988</td>\n",
       "      <td>204.280380</td>\n",
       "      <td>90.682976</td>\n",
       "      <td>0.896069</td>\n",
       "      <td>14622</td>\n",
       "      <td>0.573873</td>\n",
       "      <td>Cammeo</td>\n",
       "    </tr>\n",
       "  </tbody>\n",
       "</table>\n",
       "<p>762 rows × 8 columns</p>\n",
       "</div>"
      ],
      "text/plain": [
       "      Area   Perimeter  Major_Axis_Length  Minor_Axis_Length  Eccentricity  \\\n",
       "0    12442  459.535004         187.508850          87.187302      0.885323   \n",
       "1    12408  437.014008         179.741165          88.829605      0.869343   \n",
       "2    12867  449.079987         181.700561          91.341064      0.864460   \n",
       "3    13090  472.945007         202.601578          83.230179      0.911722   \n",
       "4    10359  409.510986         173.337967          76.875809      0.896273   \n",
       "..     ...         ...                ...                ...           ...   \n",
       "757  14802  497.832001         209.617950          91.147133      0.900515   \n",
       "758  17192  528.341980         222.949936          99.092674      0.895798   \n",
       "759  11234  425.931000         176.301987          82.101532      0.884950   \n",
       "760  13982  479.785004         204.542389          88.279648      0.902067   \n",
       "761  14321  490.424988         204.280380          90.682976      0.896069   \n",
       "\n",
       "     Convex_Area    Extent     Class  \n",
       "0          12941  0.587580    Cammeo  \n",
       "1          12598  0.636928  Osmancik  \n",
       "2          13152  0.649062  Osmancik  \n",
       "3          13331  0.775290    Cammeo  \n",
       "4          10510  0.573588  Osmancik  \n",
       "..           ...       ...       ...  \n",
       "757        15208  0.622980    Cammeo  \n",
       "758        17457  0.628914    Cammeo  \n",
       "759        11452  0.655579  Osmancik  \n",
       "760        14221  0.772913    Cammeo  \n",
       "761        14622  0.573873    Cammeo  \n",
       "\n",
       "[762 rows x 8 columns]"
      ]
     },
     "execution_count": 10,
     "metadata": {},
     "output_type": "execute_result"
    }
   ],
   "source": [
    "unseen = pd.read_csv('./data/unseen_data.csv')\n",
    "unseen"
   ]
  },
  {
   "cell_type": "code",
   "execution_count": 12,
   "id": "2ad23e7a-c4c0-41b8-85b3-22b6bb18079d",
   "metadata": {},
   "outputs": [],
   "source": [
    "cls = final_lr\n",
    "unseen_X = unseen.drop('Class', axis=1)\n",
    "y = unseen['Class']"
   ]
  },
  {
   "cell_type": "code",
   "execution_count": 13,
   "id": "3f9c651d-2f14-4081-aaea-48228109f76f",
   "metadata": {},
   "outputs": [
    {
     "data": {
      "text/plain": [
       "((762, 7), (762,))"
      ]
     },
     "execution_count": 13,
     "metadata": {},
     "output_type": "execute_result"
    }
   ],
   "source": [
    "unseen_X.shape, y.shape"
   ]
  },
  {
   "cell_type": "code",
   "execution_count": 14,
   "id": "f33101ab-240b-48e4-8e1e-32a49d2d11aa",
   "metadata": {},
   "outputs": [
    {
     "data": {
      "text/plain": [
       "0      Osmancik\n",
       "1      Osmancik\n",
       "2      Osmancik\n",
       "3        Cammeo\n",
       "4      Osmancik\n",
       "         ...   \n",
       "757      Cammeo\n",
       "758      Cammeo\n",
       "759    Osmancik\n",
       "760      Cammeo\n",
       "761      Cammeo\n",
       "Name: Class, Length: 762, dtype: object"
      ]
     },
     "execution_count": 14,
     "metadata": {},
     "output_type": "execute_result"
    }
   ],
   "source": [
    "y_pred = cls.predict(unseen_X)\n",
    "y_pred"
   ]
  },
  {
   "cell_type": "code",
   "execution_count": 16,
   "id": "7e302bda-bbf7-453e-b3b4-4e550803420a",
   "metadata": {},
   "outputs": [
    {
     "data": {
      "text/plain": [
       "0.9304461942257218"
      ]
     },
     "execution_count": 16,
     "metadata": {},
     "output_type": "execute_result"
    }
   ],
   "source": [
    "accuracy_score(y, y_pred)"
   ]
  },
  {
   "cell_type": "code",
   "execution_count": 17,
   "id": "2f5f4ff2-f0a1-4e82-a360-4a3fd804356e",
   "metadata": {},
   "outputs": [
    {
     "data": {
      "text/plain": [
       "0.9306964625064568"
      ]
     },
     "execution_count": 17,
     "metadata": {},
     "output_type": "execute_result"
    }
   ],
   "source": [
    " precision_score(y, y_pred, pos_label='Positive', average='weighted')\n"
   ]
  },
  {
   "cell_type": "code",
   "execution_count": 18,
   "id": "42fb6d6a-ab17-417d-9777-54e11dbb6d02",
   "metadata": {},
   "outputs": [
    {
     "data": {
      "text/plain": [
       "0.9304461942257218"
      ]
     },
     "execution_count": 18,
     "metadata": {},
     "output_type": "execute_result"
    }
   ],
   "source": [
    "recall_score(y, y_pred, pos_label='Negative', average='weighted')"
   ]
  },
  {
   "cell_type": "code",
   "execution_count": 15,
   "id": "bada1e57-5bc1-42a4-bbe2-a24f64c6f397",
   "metadata": {},
   "outputs": [
    {
     "name": "stdout",
     "output_type": "stream",
     "text": [
      "              precision    recall  f1-score   support\n",
      "\n",
      "      Cammeo       0.92      0.93      0.93       350\n",
      "    Osmancik       0.94      0.93      0.94       412\n",
      "\n",
      "    accuracy                           0.93       762\n",
      "   macro avg       0.93      0.93      0.93       762\n",
      "weighted avg       0.93      0.93      0.93       762\n",
      "\n"
     ]
    }
   ],
   "source": [
    "print(classification_report(y, y_pred))"
   ]
  },
  {
   "cell_type": "markdown",
   "id": "ad4a5a97-96a0-4996-921d-4c02f06f41c3",
   "metadata": {},
   "source": [
    "<div style=\"background-color: #e6f7ff; padding: 10px;\">\n",
    "    \n",
    "# 📊  Model Performance Metrics\n",
    "\n",
    "- **Precision**:\n",
    "    - Cammeo: 92%\n",
    "    - Osmancik: 94%\n",
    "- **Recall** (True Positive Rate):\n",
    "    - Both classes: 93%\n",
    "- **F1-score** (Harmonizing precision and recall):\n",
    "    - Cammeo: 93%\n",
    "    - Osmancik: 94%\n",
    "- **Overall Accuracy**:\n",
    "    - 93%\n",
    "\n",
    "These results demonstrate the model's effectiveness in discriminating between rice types.\n"
   ]
  },
  {
   "cell_type": "code",
   "execution_count": 19,
   "id": "d90a6ccb-0568-4df5-a4b0-c857741f1414",
   "metadata": {},
   "outputs": [
    {
     "data": {
      "text/plain": [
       "array([[327,  23],\n",
       "       [ 30, 382]], dtype=int64)"
      ]
     },
     "execution_count": 19,
     "metadata": {},
     "output_type": "execute_result"
    }
   ],
   "source": [
    "cm = confusion_matrix(y, y_pred)\n",
    "cm"
   ]
  },
  {
   "cell_type": "code",
   "execution_count": 20,
   "id": "9c53df0e-5c6e-45a7-ab89-d8b7fd2a2ca6",
   "metadata": {},
   "outputs": [
    {
     "data": {
      "image/png": "[encoded data removed]",
      "text/plain": [
       "<Figure size 800x600 with 2 Axes>"
      ]
     },
     "metadata": {},
     "output_type": "display_data"
    }
   ],
   "source": [
    "# Plot the confusion matrix\n",
    "plt.figure(figsize=(8, 6))\n",
    "ax = sns.heatmap(cm, annot=True, fmt='g', cmap='Blues')\n",
    "ax.set_xticklabels(['Cammeo', 'Osmancik'])\n",
    "ax.set_yticklabels(['Cammeo', 'Osmancik'])\n",
    "ax.set_xlabel('Predicted Labels')\n",
    "ax.set_ylabel('Actual Labels')\n",
    "ax.set_title('Unseen Dataset Confusion Matrix')\n",
    "plt.show()"
   ]
  },
  {
   "cell_type": "markdown",
   "id": "2e763607-b999-4d20-94cc-5d6d57bd856e",
   "metadata": {},
   "source": [
    "<div style=\"background-color: #e6f7ff; padding: 10px;\">\n",
    "    \n",
    "# 🧮 Confusion Matrix Analysis\n",
    "\n",
    "The confusion matrix shows how well the model classified instances into categories. Here's the breakdown:\n",
    "\n",
    "- **True Positives (TP)**: 382 instances correctly classified as 'Osmancik'.\n",
    "- **True Negatives (TN)**: 327 instances correctly classified as 'Cammeo'.\n",
    "- **False Positives (FP)**: 23 instances wrongly classified as 'Osmancik'.\n",
    "- **False Negatives (FN)**: 30 instances mistakenly classified as 'Cammeo'.\n",
    "\n",
    "This matrix provides a detailed analysis of the model's classification performance, highlighting its strengths and weaknesses.\n"
   ]
  },
  {
   "cell_type": "markdown",
   "id": "ed328442-fb4d-4796-828d-aed11a879a55",
   "metadata": {},
   "source": [
    "<div style=\"background-color: #e6f7ff; padding: 10px;\">\n",
    "    \n",
    "# 📝  Model Performance Summary\n",
    "\n",
    "- The model demonstrates remarkable accuracy in classifying different rice types, particularly distinguishing between 'Cammeo' and 'Osmancik' varieties.\n",
    "- Key Metrics:\n",
    "    - **Precision**: High precision of 92% for 'Cammeo' and 94% for 'Osmancik'.\n",
    "    - **Recall**: 93% for both classes, indicating the model's ability to identify actual positives.\n",
    "    - **F1-score**: Balanced performance with 93% for 'Cammeo' and 94% for 'Osmancik'.\n",
    "    - **Overall Accuracy**: Impressive 93% accuracy across all classes.\n",
    "- Misclassifications: While there were a few errors (as shown in the confusion matrix), the model's performance suggests practical applicability, especially in agricultural management.\n",
    "\n",
    "In summary, the model holds promise for discriminating between rice types, which is crucial for various real-world scenarios. 🌾🔍\n"
   ]
  },
  {
   "cell_type": "code",
   "execution_count": null,
   "id": "e3a81fbb-8f38-4957-be48-2b78a67cc581",
   "metadata": {},
   "outputs": [],
   "source": []
  }
 ],
 "metadata": {
  "kernelspec": {
   "display_name": "Python 3 (ipykernel)",
   "language": "python",
   "name": "python3"
  },
  "language_info": {
   "codemirror_mode": {
    "name": "ipython",
    "version": 3
   },
   "file_extension": ".py",
   "mimetype": "text/x-python",
   "name": "python",
   "nbconvert_exporter": "python",
   "pygments_lexer": "ipython3",
   "version": "3.11.8"
  }
 },
 "nbformat": 4,
 "nbformat_minor": 5
}
